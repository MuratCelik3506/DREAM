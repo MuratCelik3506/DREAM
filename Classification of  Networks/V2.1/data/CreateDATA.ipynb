{
 "cells": [
  {
   "cell_type": "code",
   "execution_count": 1,
   "metadata": {},
   "outputs": [],
   "source": [
    "import numpy as np\n",
    "import networkx as nx\n",
    "from itertools import combinations"
   ]
  },
  {
   "cell_type": "code",
   "execution_count": 21,
   "metadata": {},
   "outputs": [],
   "source": [
    "def makeWeightedEdgelist(A, outname):\n",
    "    # still remove self loops, as they make no sense in this context\n",
    "    Atmp = np.array([row for row in A if row[0] != row[1]])\n",
    "    inds = np.lexsort((Atmp[:, 1], Atmp[:, 0]))\n",
    "    Asort = Atmp[inds, :]\n",
    "    # get number of unique entries by taking diff\n",
    "    Adiff1 = np.vstack((np.array([1, 1]), np.diff(Asort, axis=0)))\n",
    "    Adiff = np.any(Adiff1 != 0, axis=1)\n",
    "    # find where the diffs are equal to 1 a and diff that to get counts of unique\n",
    "    outUnique = Asort[Adiff == 1]\n",
    "    outCounts = np.diff(np.hstack((np.where(Adiff == 1)[0], Adiff.shape[0])))\n",
    "    out = np.column_stack((outUnique, outCounts))\n",
    "    \n",
    "    return out"
   ]
  },
  {
   "cell_type": "code",
   "execution_count": 3,
   "metadata": {},
   "outputs": [],
   "source": [
    "def myPA(nodes, m, seed=4639):\n",
    "    np.random.seed(seed)\n",
    "    edgeList = []\n",
    "    degreeVec = np.zeros(nodes)\n",
    "    # initialize first step\n",
    "    degreeVec[0:2] = np.array([1, 1])\n",
    "    edgeList.append((0, 1))\n",
    "    for n in np.arange(2, nodes):\n",
    "        # connect to existing vertices according to preferential attachment model\n",
    "        # weighting of distribution is degreeVec[:n]\n",
    "        probs = np.double(degreeVec[:n])\n",
    "        neighbors = np.random.choice(np.arange(n), m, replace=True, p=probs / np.sum(probs))\n",
    "        # print neighbors\n",
    "        degreeVec[n] = m\n",
    "        for dit in np.arange(m):\n",
    "            # if edge included, increment both degrees and append edge to the list\n",
    "            degreeVec[neighbors[dit]] += 1\n",
    "            edgeList.append((neighbors[dit], n))\n",
    "        # print degreeVec\n",
    "        # print \"avg degree: \" + str(np.sum(degreeVec)/n)\n",
    "    return np.asarray(edgeList)"
   ]
  },
  {
   "cell_type": "code",
   "execution_count": 4,
   "metadata": {},
   "outputs": [],
   "source": [
    "n = 100\n",
    "k = 100\n",
    "d = float(2*1231/155)"
   ]
  },
  {
   "cell_type": "code",
   "execution_count": 5,
   "metadata": {},
   "outputs": [],
   "source": [
    "graphname = 'PreAt'\n",
    "graphType = 'PA'\n",
    "\n",
    "deg = int(d)\n",
    "for it in np.arange(k):\n",
    "    #is this degree right? or scale by 2\n",
    "    #solve directly: 2/n + 2m = deg = 2|E|/n\n",
    "    # x = myPA(n, int(deg-2./n), seed=it*4639+5011)\n",
    "    x = myPA(n, int(deg/2.-1./n), seed=it*4639+5011)\n",
    "    # x = myPA(n, int(deg/2.), seed=it*4639+5011)\n",
    "    tmpname = graphname + '_' + graphType + '_' + str(it) + '_dup.txt'\n",
    "    outname = graphname + '_' + graphType + '_' + str(it) + '.txt'\n",
    "    # outname = graphname + '_' + graphType + 'mult_' + str(it) + '.txt'\n",
    "    # makeWeightedEdgelist(x,tmpname)\n",
    "    # np.savetxt(tmpname,x,fmt=('%d','%d'),delimiter='\\t',comments='')\n",
    "    np.savetxt(outname,x,fmt=('%d','%d'),delimiter='\\t',comments='')"
   ]
  },
  {
   "cell_type": "code",
   "execution_count": 6,
   "metadata": {},
   "outputs": [],
   "source": [
    "graphname = 'GNP'\n",
    "graphType = 'GNP'\n",
    "deg = int(d)\n",
    "# every node has average degree deg, total number of edges is deg*n/2, divide by total possible edges 2/(n*(n-1))\n",
    "p = float(deg) / (n - 1)\n",
    "# print \"degree is \" + str(p)\n",
    "np.random.seed(4639)\n",
    "# generate all randomness at once\n",
    "pairs = np.array([t for t in combinations(np.arange(n), 2)])\n",
    "ps = np.random.rand(pairs.shape[0], k) <= p\n",
    "for it in np.arange(k):\n",
    "    # keep the edges that are sampled\n",
    "    pairsKeep = pairs[ps[:, it] == 1]\n",
    "    outname = graphname + '_' + graphType + '_' + str(it) + '.txt'\n",
    "    np.savetxt(outname, pairsKeep, fmt=('%d', '%d'), delimiter='\\t', comments='')"
   ]
  },
  {
   "cell_type": "code",
   "execution_count": 15,
   "metadata": {},
   "outputs": [],
   "source": [
    "filename = \"random.txt\"\n",
    "def getDegreeList(A):\n",
    "    # n = np.unique(np.vstack((A[:,0],A[:,1]))).shape[0]\n",
    "    n = int(np.max(np.vstack((A[:, 0], A[:, 1]))) + 1)\n",
    "    degreeVec = np.zeros(n, dtype=int)\n",
    "    for e in range(A.shape[0]):\n",
    "        degreeVec[int(A[e, 0])] += 1\n",
    "        degreeVec[int(A[e, 1])] += 1\n",
    "    return degreeVec\n",
    "A = np.loadtxt(filename)\n",
    "degreeVec = getDegreeList(A)"
   ]
  },
  {
   "cell_type": "code",
   "execution_count": 16,
   "metadata": {},
   "outputs": [],
   "source": [
    "graphname = \"CHUNGLU\"\n",
    "graphType = 'CL'\n",
    "w = degreeVec\n",
    "wnorm = float(np.sum(w))\n",
    "nc2 = n * (n - 1) // 2\n",
    "pairs = np.zeros((nc2, 2))\n",
    "pairComp = np.zeros(nc2)\n",
    "for e, (i, j) in enumerate(combinations(np.arange(n), 2)):\n",
    "    # array comparison\n",
    "    pairComp[e] = w[i] * w[j] / wnorm\n",
    "    pairs[e, 0] = i\n",
    "    pairs[e, 1] = j\n",
    "rands = np.random.rand(nc2, k)\n",
    "for it in np.arange(k):\n",
    "    pairsKeep = pairs[rands[:, it] < pairComp]\n",
    "    outname = graphname + '_' + graphType + '_' + str(it) + '.txt'\n",
    "    np.savetxt(outname, pairsKeep, fmt=('%d', '%d'), delimiter='\\t', comments='')"
   ]
  },
  {
   "cell_type": "code",
   "execution_count": 23,
   "metadata": {},
   "outputs": [],
   "source": [
    "graphname = \"ConfG\"\n",
    "graphType = \"CNFG\"\n",
    "w = degreeVec\n",
    "wnorm = np.sum(w)\n",
    "elist = np.zeros(wnorm)\n",
    "st = 0\n",
    "for i, wi in enumerate(w):\n",
    "    elist[st:(st + wi)] = i\n",
    "    st += wi\n",
    "for it in np.arange(k):\n",
    "    plist = np.random.permutation(elist)\n",
    "    x = plist.reshape(-1, 2)\n",
    "    # if column 1 is greater than column 0 then swap that column\n",
    "    xswap = x[:, 0] > x[:, 1]\n",
    "    x[xswap, 0:2] = np.column_stack((x[xswap, 1], x[xswap, 0]))\n",
    "    tmpname = graphname + '_' + graphType + '_' + str(it) + '_wt.txt'\n",
    "    outname = graphname + '_' + graphType + '_' + str(it) + '.txt'\n",
    "    # sort correctly and remove self loops, duplicates\n",
    "    xweighted = makeWeightedEdgelist(x, tmpname)\n",
    "    np.savetxt(outname, xweighted[:, :2], fmt=('%d', '%d'), delimiter='\\t', comments='')\n"
   ]
  },
  {
   "cell_type": "code",
   "execution_count": null,
   "metadata": {},
   "outputs": [],
   "source": []
  }
 ],
 "metadata": {
  "kernelspec": {
   "display_name": "Python 3",
   "language": "python",
   "name": "python3"
  },
  "language_info": {
   "codemirror_mode": {
    "name": "ipython",
    "version": 3
   },
   "file_extension": ".py",
   "mimetype": "text/x-python",
   "name": "python",
   "nbconvert_exporter": "python",
   "pygments_lexer": "ipython3",
   "version": "3.8.5"
  }
 },
 "nbformat": 4,
 "nbformat_minor": 4
}
