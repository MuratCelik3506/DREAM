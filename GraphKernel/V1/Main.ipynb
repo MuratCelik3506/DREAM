{
 "cells": [
  {
   "cell_type": "markdown",
   "metadata": {},
   "source": [
    "MURAT ÇELİK - Computer Science Student\n",
    "\n",
    "Main Code : https://ysig.github.io/GraKeL/0.1a7/index.html\n",
    "\n",
    "I tested for different models.\n",
    "01/08/2021"
   ]
  },
  {
   "cell_type": "code",
   "execution_count": 1,
   "metadata": {},
   "outputs": [
    {
     "name": "stdout",
     "output_type": "stream",
     "text": [
      "128.05024242401123\n"
     ]
    }
   ],
   "source": [
    "import time\n",
    "first = time.time()\n",
    "from sklearn.model_selection import train_test_split\n",
    "from sklearn.metrics import accuracy_score\n",
    "import numpy as np\n",
    "from grakel.kernels import RandomWalk\n",
    "from grakel.datasets import fetch_dataset\n",
    "\n",
    "# Loads the MUTAG dataset\n",
    "MUTAG = fetch_dataset(\"MUTAG\", verbose=False)\n",
    "G, y = MUTAG.data, MUTAG.target\n",
    "\n",
    "# Splits the dataset into a training and a test set\n",
    "G_train, G_test, y_train, y_test = train_test_split(G, y, test_size=0.2, random_state=42)\n",
    "\n",
    "# Uses the Weisfeiler-Lehman subtree kernel to generate the kernel matrices\n",
    "gk = RandomWalk(method_type=\"baseline\")\n",
    "K_train = gk.fit_transform(G_train)\n",
    "K_test = gk.transform(G_test)\n",
    "second = time.time()\n",
    "print(second-first)"
   ]
  },
  {
   "cell_type": "code",
   "execution_count": 2,
   "metadata": {},
   "outputs": [
    {
     "name": "stdout",
     "output_type": "stream",
     "text": [
      "12.36543083190918\n"
     ]
    }
   ],
   "source": [
    "import time\n",
    "first = time.time()\n",
    "from sklearn.model_selection import train_test_split\n",
    "from sklearn.metrics import accuracy_score\n",
    "import numpy as np\n",
    "from grakel.kernels import RandomWalk\n",
    "from grakel.datasets import fetch_dataset\n",
    "\n",
    "# Loads the MUTAG dataset\n",
    "MUTAG = fetch_dataset(\"MUTAG\", verbose=False)\n",
    "G, y = MUTAG.data, MUTAG.target\n",
    "\n",
    "# Splits the dataset into a training and a test set\n",
    "G_train, G_test, y_train, y_test = train_test_split(G, y, test_size=0.2, random_state=42)\n",
    "\n",
    "# Uses the Weisfeiler-Lehman subtree kernel to generate the kernel matrices\n",
    "gk = RandomWalk(method_type=\"fast\")\n",
    "K_train = gk.fit_transform(G_train)\n",
    "K_test = gk.transform(G_test)\n",
    "second = time.time()\n",
    "print(second-first)"
   ]
  },
  {
   "cell_type": "code",
   "execution_count": 3,
   "metadata": {},
   "outputs": [
    {
     "name": "stdout",
     "output_type": "stream",
     "text": [
      "Accuracy: 92.11%\n"
     ]
    }
   ],
   "source": [
    "from sklearn.svm import SVC\n",
    "\n",
    "# Uses the SVM classifier to perform classification\n",
    "svm_clf = SVC(kernel=\"precomputed\")\n",
    "svm_clf.fit(K_train, y_train)\n",
    "y_pred = svm_clf.predict(K_test)\n",
    "\n",
    "# Computes and prints the classification accuracy\n",
    "svm_acc = accuracy_score(y_test, y_pred)\n",
    "print(\"Accuracy:\", str(round(svm_acc*100, 2)) + \"%\")"
   ]
  },
  {
   "cell_type": "code",
   "execution_count": null,
   "metadata": {},
   "outputs": [],
   "source": []
  },
  {
   "cell_type": "code",
   "execution_count": 4,
   "metadata": {},
   "outputs": [
    {
     "name": "stdout",
     "output_type": "stream",
     "text": [
      "Accuracy: 94.74%\n"
     ]
    }
   ],
   "source": [
    "from sklearn.neighbors import KNeighborsClassifier\n",
    "\n",
    "# Uses the SVM classifier to perform classification\n",
    "knn_clf = KNeighborsClassifier(n_neighbors=4)\n",
    "knn_clf.fit(K_train, y_train)\n",
    "y_pred = knn_clf.predict(K_test)\n",
    "\n",
    "# Computes and prints the classification accuracy\n",
    "knn_acc = accuracy_score(y_test, y_pred)\n",
    "print(\"Accuracy:\", str(round(knn_acc*100, 2)) + \"%\")"
   ]
  },
  {
   "cell_type": "code",
   "execution_count": null,
   "metadata": {},
   "outputs": [],
   "source": []
  },
  {
   "cell_type": "code",
   "execution_count": 5,
   "metadata": {},
   "outputs": [
    {
     "name": "stdout",
     "output_type": "stream",
     "text": [
      "Accuracy: 86.84%\n"
     ]
    }
   ],
   "source": [
    "from sklearn.linear_model import LogisticRegression\n",
    "\n",
    "# Uses the SVM classifier to perform classification\n",
    "reg_clf = LogisticRegression()\n",
    "reg_clf.fit(K_train, y_train)\n",
    "y_pred = reg_clf.predict(K_test)\n",
    "\n",
    "# Computes and prints the classification accuracy\n",
    "reg_acc = accuracy_score(y_test, y_pred)\n",
    "print(\"Accuracy:\", str(round(reg_acc*100, 2)) + \"%\")"
   ]
  },
  {
   "cell_type": "code",
   "execution_count": null,
   "metadata": {},
   "outputs": [],
   "source": []
  },
  {
   "cell_type": "code",
   "execution_count": 6,
   "metadata": {},
   "outputs": [
    {
     "name": "stdout",
     "output_type": "stream",
     "text": [
      "Accuracy: 92.11%\n"
     ]
    }
   ],
   "source": [
    "from sklearn.ensemble import AdaBoostClassifier\n",
    "\n",
    "# Uses the SVM classifier to perform classification\n",
    "adb_clf = AdaBoostClassifier()\n",
    "adb_clf.fit(K_train, y_train)\n",
    "y_pred = adb_clf.predict(K_test)\n",
    "\n",
    "# Computes and prints the classification accuracy\n",
    "adb_acc = accuracy_score(y_test, y_pred)\n",
    "print(\"Accuracy:\", str(round(adb_acc*100, 2)) + \"%\")"
   ]
  },
  {
   "cell_type": "code",
   "execution_count": null,
   "metadata": {},
   "outputs": [],
   "source": []
  },
  {
   "cell_type": "code",
   "execution_count": 7,
   "metadata": {},
   "outputs": [
    {
     "name": "stdout",
     "output_type": "stream",
     "text": [
      "Accuracy: 89.47%\n"
     ]
    }
   ],
   "source": [
    "from sklearn.ensemble import RandomForestClassifier\n",
    "\n",
    "# Uses the SVM classifier to perform classification\n",
    "rf_clf = RandomForestClassifier()\n",
    "rf_clf.fit(K_train, y_train)\n",
    "y_pred = rf_clf.predict(K_test)\n",
    "\n",
    "# Computes and prints the classification accuracy\n",
    "rf_acc = accuracy_score(y_test, y_pred)\n",
    "print(\"Accuracy:\", str(round(rf_acc*100, 2)) + \"%\")"
   ]
  },
  {
   "cell_type": "code",
   "execution_count": 8,
   "metadata": {},
   "outputs": [
    {
     "name": "stdout",
     "output_type": "stream",
     "text": [
      "Accuracy of SVM: 92.11%\n",
      "Accuracy of KNN: 94.74%\n",
      "Accuracy of LogReg: 86.84%\n",
      "Accuracy of Adaboost: 92.11%\n",
      "Accuracy: of RandomForest 89.47%\n"
     ]
    }
   ],
   "source": [
    "y_pred = svm_clf.predict(K_test)\n",
    "# Computes and prints the classification accuracy\n",
    "svm_acc = accuracy_score(y_test, y_pred)\n",
    "print(\"Accuracy of SVM:\", str(round(svm_acc*100, 2)) + \"%\")\n",
    "\n",
    "y_pred = knn_clf.predict(K_test)\n",
    "# Computes and prints the classification accuracy\n",
    "knn_acc = accuracy_score(y_test, y_pred)\n",
    "print(\"Accuracy of KNN:\", str(round(knn_acc*100, 2)) + \"%\")\n",
    "\n",
    "y_pred = reg_clf.predict(K_test)\n",
    "# Computes and prints the classification accuracy\n",
    "reg_acc = accuracy_score(y_test, y_pred)\n",
    "print(\"Accuracy of LogReg:\", str(round(reg_acc*100, 2)) + \"%\")\n",
    "\n",
    "y_pred = adb_clf.predict(K_test)\n",
    "# Computes and prints the classification accuracy\n",
    "adb_acc = accuracy_score(y_test, y_pred)\n",
    "print(\"Accuracy of Adaboost:\", str(round(adb_acc*100, 2)) + \"%\")\n",
    "\n",
    "y_pred = rf_clf.predict(K_test)\n",
    "# Computes and prints the classification accuracy\n",
    "rf_acc = accuracy_score(y_test, y_pred)\n",
    "print(\"Accuracy: of RandomForest\", str(round(rf_acc*100, 2)) + \"%\")"
   ]
  },
  {
   "cell_type": "code",
   "execution_count": null,
   "metadata": {},
   "outputs": [],
   "source": []
  }
 ],
 "metadata": {
  "kernelspec": {
   "display_name": "Python 3",
   "language": "python",
   "name": "python3"
  },
  "language_info": {
   "codemirror_mode": {
    "name": "ipython",
    "version": 3
   },
   "file_extension": ".py",
   "mimetype": "text/x-python",
   "name": "python",
   "nbconvert_exporter": "python",
   "pygments_lexer": "ipython3",
   "version": "3.8.5"
  }
 },
 "nbformat": 4,
 "nbformat_minor": 4
}
